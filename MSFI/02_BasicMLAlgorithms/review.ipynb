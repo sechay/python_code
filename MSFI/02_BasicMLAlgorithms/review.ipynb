{
 "cells": [
  {
   "cell_type": "code",
   "execution_count": 159,
   "metadata": {},
   "outputs": [],
   "source": [
    "import pandas as pd\n",
    "\n",
    "import matplotlib.pyplot as plt\n"
   ]
  },
  {
   "cell_type": "code",
   "execution_count": 160,
   "metadata": {},
   "outputs": [
    {
     "data": {
      "text/html": [
       "<div>\n",
       "<style scoped>\n",
       "    .dataframe tbody tr th:only-of-type {\n",
       "        vertical-align: middle;\n",
       "    }\n",
       "\n",
       "    .dataframe tbody tr th {\n",
       "        vertical-align: top;\n",
       "    }\n",
       "\n",
       "    .dataframe thead th {\n",
       "        text-align: right;\n",
       "    }\n",
       "</style>\n",
       "<table border=\"1\" class=\"dataframe\">\n",
       "  <thead>\n",
       "    <tr style=\"text-align: right;\">\n",
       "      <th></th>\n",
       "      <th>A1</th>\n",
       "      <th>A2</th>\n",
       "      <th>A3</th>\n",
       "      <th>A4</th>\n",
       "      <th>A5</th>\n",
       "      <th>A6</th>\n",
       "      <th>A7</th>\n",
       "      <th>A8</th>\n",
       "      <th>A9</th>\n",
       "      <th>A10</th>\n",
       "      <th>A11</th>\n",
       "      <th>A12</th>\n",
       "      <th>A13</th>\n",
       "      <th>A14</th>\n",
       "      <th>A15</th>\n",
       "      <th>y</th>\n",
       "    </tr>\n",
       "  </thead>\n",
       "  <tbody>\n",
       "    <tr>\n",
       "      <th>0</th>\n",
       "      <td>b</td>\n",
       "      <td>30.83</td>\n",
       "      <td>0.000</td>\n",
       "      <td>u</td>\n",
       "      <td>g</td>\n",
       "      <td>w</td>\n",
       "      <td>v</td>\n",
       "      <td>1.25</td>\n",
       "      <td>t</td>\n",
       "      <td>t</td>\n",
       "      <td>1</td>\n",
       "      <td>f</td>\n",
       "      <td>g</td>\n",
       "      <td>202.0</td>\n",
       "      <td>0</td>\n",
       "      <td>+</td>\n",
       "    </tr>\n",
       "    <tr>\n",
       "      <th>1</th>\n",
       "      <td>a</td>\n",
       "      <td>58.67</td>\n",
       "      <td>4.460</td>\n",
       "      <td>u</td>\n",
       "      <td>g</td>\n",
       "      <td>q</td>\n",
       "      <td>h</td>\n",
       "      <td>3.04</td>\n",
       "      <td>t</td>\n",
       "      <td>t</td>\n",
       "      <td>6</td>\n",
       "      <td>f</td>\n",
       "      <td>g</td>\n",
       "      <td>43.0</td>\n",
       "      <td>560</td>\n",
       "      <td>+</td>\n",
       "    </tr>\n",
       "    <tr>\n",
       "      <th>2</th>\n",
       "      <td>a</td>\n",
       "      <td>24.50</td>\n",
       "      <td>0.500</td>\n",
       "      <td>u</td>\n",
       "      <td>g</td>\n",
       "      <td>q</td>\n",
       "      <td>h</td>\n",
       "      <td>1.50</td>\n",
       "      <td>t</td>\n",
       "      <td>f</td>\n",
       "      <td>0</td>\n",
       "      <td>f</td>\n",
       "      <td>g</td>\n",
       "      <td>280.0</td>\n",
       "      <td>824</td>\n",
       "      <td>+</td>\n",
       "    </tr>\n",
       "    <tr>\n",
       "      <th>3</th>\n",
       "      <td>b</td>\n",
       "      <td>27.83</td>\n",
       "      <td>1.540</td>\n",
       "      <td>u</td>\n",
       "      <td>g</td>\n",
       "      <td>w</td>\n",
       "      <td>v</td>\n",
       "      <td>3.75</td>\n",
       "      <td>t</td>\n",
       "      <td>t</td>\n",
       "      <td>5</td>\n",
       "      <td>t</td>\n",
       "      <td>g</td>\n",
       "      <td>100.0</td>\n",
       "      <td>3</td>\n",
       "      <td>+</td>\n",
       "    </tr>\n",
       "    <tr>\n",
       "      <th>4</th>\n",
       "      <td>b</td>\n",
       "      <td>20.17</td>\n",
       "      <td>5.625</td>\n",
       "      <td>u</td>\n",
       "      <td>g</td>\n",
       "      <td>w</td>\n",
       "      <td>v</td>\n",
       "      <td>1.71</td>\n",
       "      <td>t</td>\n",
       "      <td>f</td>\n",
       "      <td>0</td>\n",
       "      <td>f</td>\n",
       "      <td>s</td>\n",
       "      <td>120.0</td>\n",
       "      <td>0</td>\n",
       "      <td>+</td>\n",
       "    </tr>\n",
       "  </tbody>\n",
       "</table>\n",
       "</div>"
      ],
      "text/plain": [
       "  A1     A2     A3 A4 A5 A6 A7    A8 A9 A10  A11 A12 A13    A14  A15  y\n",
       "0  b  30.83  0.000  u  g  w  v  1.25  t   t    1   f   g  202.0    0  +\n",
       "1  a  58.67  4.460  u  g  q  h  3.04  t   t    6   f   g   43.0  560  +\n",
       "2  a  24.50  0.500  u  g  q  h  1.50  t   f    0   f   g  280.0  824  +\n",
       "3  b  27.83  1.540  u  g  w  v  3.75  t   t    5   t   g  100.0    3  +\n",
       "4  b  20.17  5.625  u  g  w  v  1.71  t   f    0   f   s  120.0    0  +"
      ]
     },
     "execution_count": 160,
     "metadata": {},
     "output_type": "execute_result"
    }
   ],
   "source": [
    "# https://archive.ics.uci.edu/ml/datasets/Credit+Approval\n",
    "df = pd.read_csv('d:/tmp/credit-approval/crx.data',\n",
    "                names=['A1', 'A2', 'A3', 'A4', 'A5', 'A6',\n",
    "                      'A7', 'A8', 'A9', 'A10', 'A11', 'A12',\n",
    "                      'A13', 'A14', 'A15', 'y'],\n",
    "                na_values=['?', 'nan'])\n",
    "df.head()"
   ]
  },
  {
   "cell_type": "code",
   "execution_count": 161,
   "metadata": {},
   "outputs": [],
   "source": [
    "# Objective: classify \"approved\" or \"denied\" based on credit data "
   ]
  },
  {
   "cell_type": "code",
   "execution_count": 162,
   "metadata": {},
   "outputs": [
    {
     "name": "stdout",
     "output_type": "stream",
     "text": [
      "<class 'pandas.core.frame.DataFrame'>\n",
      "Int64Index: 653 entries, 0 to 689\n",
      "Data columns (total 16 columns):\n",
      "A1     653 non-null object\n",
      "A2     653 non-null float64\n",
      "A3     653 non-null float64\n",
      "A4     653 non-null object\n",
      "A5     653 non-null object\n",
      "A6     653 non-null object\n",
      "A7     653 non-null object\n",
      "A8     653 non-null float64\n",
      "A9     653 non-null object\n",
      "A10    653 non-null object\n",
      "A11    653 non-null int64\n",
      "A12    653 non-null object\n",
      "A13    653 non-null object\n",
      "A14    653 non-null float64\n",
      "A15    653 non-null int64\n",
      "y      653 non-null object\n",
      "dtypes: float64(4), int64(2), object(10)\n",
      "memory usage: 86.7+ KB\n"
     ]
    }
   ],
   "source": [
    "# Plotting PCA\n",
    "\n",
    "# check for null / NaN \n",
    "df[df.isnull().any(axis=1)]\n",
    "\n",
    "# drop\n",
    "df.dropna(inplace=True)\n",
    "\n",
    "# check again for null / NaN (make sure drop worked)\n",
    "df.isnull().any()\n",
    "\n",
    "df.info()"
   ]
  },
  {
   "cell_type": "code",
   "execution_count": 163,
   "metadata": {},
   "outputs": [
    {
     "data": {
      "text/plain": [
       "A1                 b\n",
       "A2             30.83\n",
       "A3                 0\n",
       "A4                 u\n",
       "A5                 g\n",
       "A6                 w\n",
       "A7                 v\n",
       "A8              1.25\n",
       "A9                 t\n",
       "A10                t\n",
       "A11                1\n",
       "A12                f\n",
       "A13                g\n",
       "A14              202\n",
       "A15                0\n",
       "y                  +\n",
       "A1_encoded         1\n",
       "A4_encoded         1\n",
       "A5_encoded         0\n",
       "A6_encoded        12\n",
       "A7_encoded         7\n",
       "A9_encoded         1\n",
       "A10_encoded        1\n",
       "A12_encoded        0\n",
       "A13_encoded        0\n",
       "y_encoded          0\n",
       "Name: 0, dtype: object"
      ]
     },
     "execution_count": 163,
     "metadata": {},
     "output_type": "execute_result"
    }
   ],
   "source": [
    "from sklearn.preprocessing import LabelEncoder\n",
    "\n",
    "# label encode and append columns (data set is very small)\n",
    "for col in ['A1', 'A4', 'A5', 'A6', 'A7', 'A9', 'A10', 'A12', 'A13', 'y']:\n",
    "    col_name = col + '_encoded'\n",
    "    \n",
    "    # append encoded column to dataframe as new column\n",
    "    df[col_name] = LabelEncoder().fit_transform(df.loc[:, col])\n",
    "    \n",
    "df.iloc[0, :]"
   ]
  },
  {
   "cell_type": "code",
   "execution_count": 164,
   "metadata": {},
   "outputs": [
    {
     "data": {
      "text/plain": [
       "0       True\n",
       "1       True\n",
       "2       True\n",
       "3       True\n",
       "4       True\n",
       "5       True\n",
       "6       True\n",
       "7       True\n",
       "8       True\n",
       "9       True\n",
       "10      True\n",
       "11      True\n",
       "12      True\n",
       "13      True\n",
       "14      True\n",
       "15      True\n",
       "16      True\n",
       "17      True\n",
       "18      True\n",
       "19      True\n",
       "20      True\n",
       "21      True\n",
       "22      True\n",
       "23      True\n",
       "24      True\n",
       "25      True\n",
       "26      True\n",
       "27      True\n",
       "28      True\n",
       "29      True\n",
       "       ...  \n",
       "659    False\n",
       "660    False\n",
       "661    False\n",
       "662    False\n",
       "663    False\n",
       "664    False\n",
       "665    False\n",
       "666    False\n",
       "667    False\n",
       "668    False\n",
       "669    False\n",
       "670    False\n",
       "671    False\n",
       "672    False\n",
       "674    False\n",
       "675    False\n",
       "676    False\n",
       "677    False\n",
       "678    False\n",
       "679    False\n",
       "680    False\n",
       "681    False\n",
       "682    False\n",
       "683    False\n",
       "684    False\n",
       "685    False\n",
       "686    False\n",
       "687    False\n",
       "688    False\n",
       "689    False\n",
       "Name: y_encoded, Length: 653, dtype: bool"
      ]
     },
     "execution_count": 164,
     "metadata": {},
     "output_type": "execute_result"
    }
   ],
   "source": [
    "# Create X\n",
    "\n",
    "# Remove columns in 'to_encode' from df.columns..\n",
    "# df = df.loc[:, df.columns.difference(to_encode)]\n",
    "\n",
    "X_cols = ['A1_encoded', 'A2', 'A3', 'A4_encoded', \\\n",
    " 'A5_encoded', 'A6_encoded', 'A7_encoded', 'A8', \\\n",
    " 'A9_encoded', 'A10_encoded', 'A11', 'A12_encoded', \\\n",
    " 'A13_encoded', 'A14', 'A15']\n",
    "\n",
    "X = df.loc[:, X_cols]\n",
    "\n",
    "# Create y\n",
    "y_col = 'y_encoded'\n",
    "\n",
    "y = df.loc[:, y_col]\n",
    "y==0"
   ]
  },
  {
   "cell_type": "code",
   "execution_count": 172,
   "metadata": {},
   "outputs": [
    {
     "data": {
      "image/png": "[encoded data removed]",
      "text/plain": [
       "<Figure size 432x288 with 1 Axes>"
      ]
     },
     "metadata": {},
     "output_type": "display_data"
    }
   ],
   "source": [
    "# PCA plotting\n",
    "from sklearn.preprocessing import StandardScaler\n",
    "from sklearn.decomposition import PCA\n",
    "\n",
    "X_scaled = StandardScaler().fit_transform(X)\n",
    "\n",
    "X_scaled_2d = PCA(n_components=2).fit_transform(X_scaled)\n",
    "\n",
    "fig, ax = plt.subplots()\n",
    "\n",
    "# PCA (X1, ... X15) -> X1_pca, X2_pca, X3_pca, X4_pca\n",
    "#\n",
    "# X_scaled_2d[row_indexer, col_indexer]\n",
    "\n",
    "# X1_pca: X_scaled_2d[[True, True, ], 0]\n",
    "#         X_scaled_2d[ y==0         , 0] \n",
    "#\n",
    "#    row indexer = [True, True, ... ] : y==0\n",
    "#    col indexer = 0\n",
    "\n",
    "# X2_pca: X_scaled_2d[[True, True], 1]\n",
    "#         X_scaled_2d[ y==0       , 1] \n",
    "#\n",
    "#    row indexer = [True, True, ... ] : y==0\n",
    "#    col indexer = 1\n",
    "\n",
    "# X3_pca: X_scaled_2d[[True, True], 2]\n",
    "#\n",
    "#    row indexer = [True, True, ... ] : y==0\n",
    "#    col indexer = 2\n",
    "\n",
    "# X4_pca: X_scaled_2d[[True, True], 3]\n",
    "#\n",
    "#    row indexer = [True, True, ... ] : y==0\n",
    "#    col indexer = 3\n",
    "\n",
    "#\n",
    "ax.scatter(X_scaled_2d[y==0, 0], X_scaled_2d[y==0, 1], color='red',\n",
    "           label='+')\n",
    "ax.scatter(X_scaled_2d[y==1, 0], X_scaled_2d[y==1, 1], color='black',\n",
    "           label='-')\n",
    "\n",
    "ax.legend()\n",
    "\n",
    "plt.show()"
   ]
  },
  {
   "cell_type": "code",
   "execution_count": 180,
   "metadata": {},
   "outputs": [
    {
     "name": "stdout",
     "output_type": "stream",
     "text": [
      "(10, 2)\n"
     ]
    }
   ],
   "source": [
    "students = X_scaled_2d[:10, :]\n",
    "print(students.shape)"
   ]
  },
  {
   "cell_type": "code",
   "execution_count": 183,
   "metadata": {},
   "outputs": [
    {
     "name": "stdout",
     "output_type": "stream",
     "text": [
      "(10,)\n"
     ]
    }
   ],
   "source": [
    "import numpy as np\n",
    "cards = np.array(['Red', 'Blue', 'Red', 'Blue', 'Red',\n",
    "         'Blue', 'Blue', 'Red', 'Blue', 'Red'])\n",
    "print(cards.shape)"
   ]
  },
  {
   "cell_type": "code",
   "execution_count": 186,
   "metadata": {},
   "outputs": [
    {
     "data": {
      "text/plain": [
       "array([ True, False,  True, False,  True, False, False,  True, False,\n",
       "        True])"
      ]
     },
     "execution_count": 186,
     "metadata": {},
     "output_type": "execute_result"
    }
   ],
   "source": [
    "cards=='Red'"
   ]
  },
  {
   "cell_type": "code",
   "execution_count": 187,
   "metadata": {},
   "outputs": [
    {
     "data": {
      "text/plain": [
       "array([False,  True, False,  True, False,  True,  True, False,  True,\n",
       "       False])"
      ]
     },
     "execution_count": 187,
     "metadata": {},
     "output_type": "execute_result"
    }
   ],
   "source": [
    "cards=='Blue'"
   ]
  },
  {
   "cell_type": "code",
   "execution_count": 184,
   "metadata": {},
   "outputs": [
    {
     "data": {
      "text/plain": [
       "array([[ 0.58122424, -0.75023781],\n",
       "       [-0.26180459, -1.08682528],\n",
       "       [-0.55106179, -1.48914162],\n",
       "       [ 0.11319559, -0.90098553],\n",
       "       [-0.72633191,  2.4712327 ]])"
      ]
     },
     "execution_count": 184,
     "metadata": {},
     "output_type": "execute_result"
    }
   ],
   "source": [
    "students[cards=='Red']"
   ]
  },
  {
   "cell_type": "code",
   "execution_count": 185,
   "metadata": {},
   "outputs": [
    {
     "data": {
      "text/plain": [
       "array([[ 2.37473081,  0.1648879 ],\n",
       "       [ 1.36786005, -0.28268391],\n",
       "       [ 0.07060724, -0.78986066],\n",
       "       [ 1.21089945, -0.48329387],\n",
       "       [-0.7978208 ,  2.60565877]])"
      ]
     },
     "execution_count": 185,
     "metadata": {},
     "output_type": "execute_result"
    }
   ],
   "source": [
    "students[cards=='Blue']"
   ]
  },
  {
   "cell_type": "code",
   "execution_count": null,
   "metadata": {},
   "outputs": [],
   "source": []
  },
  {
   "cell_type": "code",
   "execution_count": null,
   "metadata": {
    "scrolled": false
   },
   "outputs": [],
   "source": [
    "# Train without GridSearchCV\n",
    "\n",
    "# Step 7 (cheatsheet)\n",
    "from sklearn.model_selection import train_test_split\n",
    "from sklearn.linear_model import LogisticRegression\n",
    "\n",
    "# \n",
    "# X = df.loc[:, X_cols]\n",
    "# y = df.loc[:, y_col]\n",
    "#\n",
    "X_train, X_test, y_train, y_test = train_test_split(X, y)\n",
    "\n",
    "# Step 8\n",
    "scaler_X = StandardScaler()\n",
    "\n",
    "# fit transform on training X\n",
    "X_scaled_train = scaler_X.fit_transform(X_train)\n",
    "\n",
    "# transform (don't fit) on test X\n",
    "X_scaled_test = scaler_X.transform(X_test)\n",
    "\n",
    "# Step 9\n",
    "lr = LogisticRegression(random_state=42)\n",
    "lr.fit(X_scaled_train, y_train)\n",
    "y_pred = lr.predict(X_scaled_test)\n",
    "y_prob = lr.predict_proba(X_scaled_test)\n",
    "\n",
    "#print(y_pred)\n",
    "#print(y_prob)"
   ]
  },
  {
   "cell_type": "code",
   "execution_count": null,
   "metadata": {},
   "outputs": [],
   "source": [
    "# Train with GridSearchCV\n",
    "\n",
    "# Step 7 (cheatsheet)\n",
    "from sklearn.model_selection import GridSearchCV\n",
    "\n",
    "X_train, X_test, y_train, y_test = train_test_split(X, y, random_state=42)\n",
    "\n",
    "# Step 8\n",
    "scaler_X = StandardScaler()\n",
    "# fit transform on training X\n",
    "X_scaled_train = scaler_X.fit_transform(X_train)\n",
    "# transform (don't fit) on test X\n",
    "X_scaled_test = scaler_X.transform(X_test)\n",
    "\n",
    "# Step 9 - GridSearchCV\n",
    "\n",
    "#penalty : str, 'l1' or 'l2', default: 'l2'\n",
    "#    Used to specify the norm used in the penalization. The 'newton-cg',\n",
    "#    'sag' and 'lbfgs' solvers support only l2 penalties.\n",
    "\n",
    "#tol : float, default: 1e-4\n",
    "#    Tolerance for stopping criteria.\n",
    "\n",
    "# C : float, default: 1.0\n",
    "#  Inverse of regularization strength; must be a positive float.\n",
    "#  Like in support vector machines, smaller values specify stronger\n",
    "#  regularization.\n",
    "\n",
    "param_grid = {\n",
    "    'penalty' : ['l1', 'l2'],\n",
    "    'tol' : [1e-1, 1e-2, 1e-4, 1e-6],\n",
    "    'C' : [1e-2, 1e-1, 1.0, 10, 20]\n",
    "}\n",
    "\n",
    "gs = GridSearchCV(LogisticRegression(random_state=42),\n",
    "                  param_grid,\n",
    "                  verbose=True)\n",
    "\n",
    "gs.fit(X_scaled_train, y_train)\n",
    "\n",
    "print(gs.best_params_)\n",
    "print(gs.best_score_)\n",
    "print(gs.best_estimator_)\n",
    "\n",
    "y_pred = gs.predict(X_scaled_test)\n",
    "y_prob = gs.predict_proba(X_scaled_test)"
   ]
  },
  {
   "cell_type": "code",
   "execution_count": null,
   "metadata": {},
   "outputs": [],
   "source": []
  },
  {
   "cell_type": "code",
   "execution_count": null,
   "metadata": {},
   "outputs": [],
   "source": [
    "# Confusing metrics"
   ]
  },
  {
   "cell_type": "code",
   "execution_count": 166,
   "metadata": {},
   "outputs": [
    {
     "name": "stdout",
     "output_type": "stream",
     "text": [
      "             precision    recall  f1-score   support\n",
      "\n",
      "          0       0.79      0.94      0.86        71\n",
      "          1       0.95      0.81      0.87        93\n",
      "\n",
      "avg / total       0.88      0.87      0.87       164\n",
      "\n"
     ]
    },
    {
     "data": {
      "text/plain": [
       "[Text(0,0.5,'Denied'), Text(0,1.5,'Approved')]"
      ]
     },
     "execution_count": 166,
     "metadata": {},
     "output_type": "execute_result"
    },
    {
     "data": {
      "image/png": "[encoded data removed]",
      "text/plain": [
       "<Figure size 432x288 with 2 Axes>"
      ]
     },
     "metadata": {},
     "output_type": "display_data"
    }
   ],
   "source": [
    "from sklearn.metrics import confusion_matrix, classification_report\n",
    "import seaborn as sns\n",
    "\n",
    "cm = confusion_matrix(y_test, y_pred)\n",
    "\n",
    "print(classification_report(y_test, y_pred))\n",
    "\n",
    "fig, ax = plt.subplots()\n",
    "sns.heatmap(cm, annot=True, ax=ax, fmt='d')\n",
    "\n",
    "ax.set(xlabel='Prediction', ylabel='Truth', title='Confusion Matrix'); \n",
    "ax.xaxis.set_ticklabels(['Denied', 'Approved'])\n",
    "ax.yaxis.set_ticklabels(['Denied', 'Approved'])"
   ]
  },
  {
   "cell_type": "code",
   "execution_count": 169,
   "metadata": {},
   "outputs": [
    {
     "data": {
      "text/plain": [
       "(164, 2)"
      ]
     },
     "execution_count": 169,
     "metadata": {},
     "output_type": "execute_result"
    }
   ],
   "source": [
    "# ROC curve"
   ]
  },
  {
   "cell_type": "code",
   "execution_count": 171,
   "metadata": {},
   "outputs": [
    {
     "data": {
      "image/png": "[encoded data removed]",
      "text/plain": [
       "<Figure size 432x288 with 1 Axes>"
      ]
     },
     "metadata": {},
     "output_type": "display_data"
    }
   ],
   "source": [
    "from sklearn.metrics import auc, roc_curve\n",
    "\n",
    "fpr, tpr, _ = roc_curve(y_test, y_prob[:, 1])\n",
    "\n",
    "fig, ax = plt.subplots()\n",
    "\n",
    "ax.plot(fpr, tpr, label='auc %f' % auc(fpr, tpr))\n",
    "ax.set(title='ROC curve',\n",
    "       xlabel='false positive rate',\n",
    "       ylabel='true positive rate')\n",
    "\n",
    "plt.show()"
   ]
  },
  {
   "cell_type": "code",
   "execution_count": null,
   "metadata": {},
   "outputs": [],
   "source": []
  }
 ],
 "metadata": {
  "kernelspec": {
   "display_name": "Python 3",
   "language": "python",
   "name": "python3"
  },
  "language_info": {
   "codemirror_mode": {
    "name": "ipython",
    "version": 3
   },
   "file_extension": ".py",
   "mimetype": "text/x-python",
   "name": "python",
   "nbconvert_exporter": "python",
   "pygments_lexer": "ipython3",
   "version": "3.6.5"
  }
 },
 "nbformat": 4,
 "nbformat_minor": 2
}
