{
 "cells": [
  {
   "cell_type": "markdown",
   "metadata": {},
   "source": [
    "# Predicting Category from Job Postings\n",
    "\n",
    "In this workshop, we'll try a classification task involving text.\n",
    "\n",
    "This task is to predict job categories from Google Job postings."
   ]
  },
  {
   "cell_type": "markdown",
   "metadata": {},
   "source": [
    "## Dataset\n",
    "https://www.kaggle.com/niyamatalmass/google-job-skills/version/1\n",
    "\n",
    "(Requires free Kaggle account)"
   ]
  },
  {
   "cell_type": "code",
   "execution_count": null,
   "metadata": {},
   "outputs": [],
   "source": []
  },
  {
   "cell_type": "markdown",
   "metadata": {},
   "source": [
    "## Setup\n",
    "\n",
    "We'll be using spaCy, a popular library for natural language processing (https://spacy.io/) to do some basic text processing.\n",
    "\n",
    "Run this from your conda environment:\n",
    "\n",
    "```\n",
    "conda install -y spacy\n",
    "python -m spacy download en_core_web_sm\n",
    "```\n",
    "\n",
    "The first command installs spaCy. \n",
    "\n",
    "The second command downloads spaCy's English pre-trained model. Language models require separate downloads because they are big files and are different for each language you need.\n",
    "\n",
    "scikit-learn also has some NLP support, but only English and not as powerful as spaCy."
   ]
  },
  {
   "cell_type": "code",
   "execution_count": null,
   "metadata": {},
   "outputs": [],
   "source": []
  },
  {
   "cell_type": "markdown",
   "metadata": {},
   "source": [
    "## Data Exploration"
   ]
  },
  {
   "cell_type": "code",
   "execution_count": 1,
   "metadata": {},
   "outputs": [],
   "source": [
    "import numpy as np\n",
    "import pandas as pd\n",
    "import matplotlib.pyplot as plt\n",
    "from sklearn.preprocessing import LabelEncoder\n",
    "from sklearn.feature_extraction.text import TfidfVectorizer\n",
    "import spacy"
   ]
  },
  {
   "cell_type": "code",
   "execution_count": null,
   "metadata": {},
   "outputs": [],
   "source": []
  },
  {
   "cell_type": "code",
   "execution_count": 2,
   "metadata": {},
   "outputs": [
    {
     "ename": "NameError",
     "evalue": "name 'df' is not defined",
     "output_type": "error",
     "traceback": [
      "\u001b[1;31m---------------------------------------------------------------------------\u001b[0m",
      "\u001b[1;31mNameError\u001b[0m                                 Traceback (most recent call last)",
      "\u001b[1;32m<ipython-input-2-c42a15b2c7cf>\u001b[0m in \u001b[0;36m<module>\u001b[1;34m()\u001b[0m\n\u001b[1;32m----> 1\u001b[1;33m \u001b[0mdf\u001b[0m\u001b[1;33m.\u001b[0m\u001b[0mhead\u001b[0m\u001b[1;33m(\u001b[0m\u001b[1;33m)\u001b[0m\u001b[1;33m\u001b[0m\u001b[0m\n\u001b[0m",
      "\u001b[1;31mNameError\u001b[0m: name 'df' is not defined"
     ]
    }
   ],
   "source": [
    "df.head()"
   ]
  },
  {
   "cell_type": "code",
   "execution_count": null,
   "metadata": {},
   "outputs": [],
   "source": []
  },
  {
   "cell_type": "markdown",
   "metadata": {},
   "source": [
    "### Check for NaN"
   ]
  },
  {
   "cell_type": "code",
   "execution_count": null,
   "metadata": {},
   "outputs": [],
   "source": [
    "# check for NaN"
   ]
  },
  {
   "cell_type": "code",
   "execution_count": null,
   "metadata": {},
   "outputs": [],
   "source": [
    "# there are NA values, drop them and then check again\n"
   ]
  },
  {
   "cell_type": "code",
   "execution_count": null,
   "metadata": {},
   "outputs": [],
   "source": []
  },
  {
   "cell_type": "markdown",
   "metadata": {},
   "source": [
    "### Merge some smaller classes"
   ]
  },
  {
   "cell_type": "code",
   "execution_count": null,
   "metadata": {},
   "outputs": [],
   "source": [
    "# Combine a few categories that are smaller, e.g.\n",
    "#   Data Center & Network, Network Engineering, IT & Data Management => IT & Data Management\n",
    "\n",
    "\n"
   ]
  },
  {
   "cell_type": "code",
   "execution_count": null,
   "metadata": {},
   "outputs": [],
   "source": []
  },
  {
   "cell_type": "code",
   "execution_count": null,
   "metadata": {},
   "outputs": [],
   "source": []
  },
  {
   "cell_type": "markdown",
   "metadata": {},
   "source": [
    "## Data Transformation"
   ]
  },
  {
   "cell_type": "markdown",
   "metadata": {},
   "source": [
    "### Label encoding\n",
    "\n",
    "Label encode the 'Category' column into numbers to form our output (Y)."
   ]
  },
  {
   "cell_type": "code",
   "execution_count": null,
   "metadata": {},
   "outputs": [],
   "source": []
  },
  {
   "cell_type": "code",
   "execution_count": null,
   "metadata": {},
   "outputs": [],
   "source": []
  },
  {
   "cell_type": "markdown",
   "metadata": {},
   "source": [
    "### Text to Vectors (a little taste of NLP)\n",
    "\n",
    "In order to train a model, we'll need convert the \"Responsibilities\" column from text into vectors.\n",
    "\n",
    "Let's try:\n",
    "1. Lemmatizing the words using English language rules (e.g. features -> feature)\n",
    "2. Removing stop words such as \"a\", \"the\", \"to\" that don't contribute much semantic meaning.\n",
    "3. Computing the TF-IDF (Term Frequency - Inverse Document Frequency) for each word (term) in the Responsibility column. This gives us a real number representation of each word.\n",
    "4. Treat each word as a separate feature in X. (This is where lemmatizing and removing stop words will keep the number of features small.)\n",
    "\n",
    "#### Notes:\n",
    "The downside to this approach (while relatively simple), is that we end up with lots of features. However, this should be okay for a small corpus (couple thousand short sentences on a specific domain).\n",
    "\n",
    "To handle larger corpora (hundreds of MBs to GBs), a more scalable approach is to train word vectors, which are slightly more involving (need hyperparameter guessing^H^H tuning). Word vectors will be overkill for this task, but an option once we've covered them in class."
   ]
  },
  {
   "cell_type": "code",
   "execution_count": null,
   "metadata": {},
   "outputs": [],
   "source": []
  },
  {
   "cell_type": "code",
   "execution_count": null,
   "metadata": {},
   "outputs": [],
   "source": [
    "# Example text we want to convert\n",
    "df.Responsibilities[0]"
   ]
  },
  {
   "cell_type": "code",
   "execution_count": null,
   "metadata": {},
   "outputs": [],
   "source": []
  },
  {
   "cell_type": "code",
   "execution_count": null,
   "metadata": {},
   "outputs": [],
   "source": [
    "import spacy\n",
    "from spacy.lemmatizer import Lemmatizer\n",
    "from spacy.lang.en import LEMMA_INDEX, LEMMA_EXC, LEMMA_RULES\n",
    "\n",
    "nlp = spacy.load('en_core_web_sm')\n",
    "lemmatizer = Lemmatizer(LEMMA_INDEX, LEMMA_EXC, LEMMA_RULES)\n",
    "\n",
    "# transformation function to use in pd.DataFrame.apply()\n",
    "def tokenize_text(text):\n",
    "    \"\"\"Tokenizes the text by lemmatizing and removing stop words\n",
    "    Args:\n",
    "        text - the input text\n",
    "    Returns:\n",
    "        a list of tokens\n",
    "    \"\"\"\n",
    "    # process the text\n",
    "    doc = nlp(text)\n",
    "    \n",
    "    # https://spacy.io/api/token\n",
    "    lemmas = [lemmatizer(token.text, token.pos_) for token in doc\n",
    "              if not token.is_stop and token.is_alpha]\n",
    "\n",
    "    # create a string\n",
    "    return ' '.join([item for sublist in lemmas for item in sublist])\n",
    "            \n",
    "# Test\n",
    "tokenize_text(df.Responsibilities[0])"
   ]
  },
  {
   "cell_type": "code",
   "execution_count": null,
   "metadata": {},
   "outputs": [],
   "source": []
  },
  {
   "cell_type": "code",
   "execution_count": null,
   "metadata": {},
   "outputs": [],
   "source": [
    "# Tokenize the column\n",
    "df_tokenized = df.Responsibilities.apply(tokenize_text)\n",
    "df_tokenized.head()"
   ]
  },
  {
   "cell_type": "code",
   "execution_count": null,
   "metadata": {},
   "outputs": [],
   "source": []
  },
  {
   "cell_type": "markdown",
   "metadata": {},
   "source": [
    "### TF-IDF\n",
    "\n",
    "See text.ipynb under 'Frequency Analysis' for formulas.\n",
    "\n",
    "- We'll perform frequency analysis on each term (e.g. 'shape' across all documents).\n",
    "- Each Job Responsibility is treated as a \"document\".\n",
    "- Frequency analysis will compute a number indicating how important that word is in the corpus.\n",
    "- Rare words that have high importance are accorded higher weight (e.g. datum or shepherd).\n",
    "\n",
    "http://scikit-learn.org/stable/modules/feature_extraction.html#tfidf-term-weighting"
   ]
  },
  {
   "cell_type": "code",
   "execution_count": null,
   "metadata": {},
   "outputs": [],
   "source": [
    "# Apply the vectorizer on all tokenized Responsibility rows\n",
    "\n",
    "vectorizer = TfidfVectorizer(lowercase=False, decode_error='ignore')\n",
    "\n",
    "X = vectorizer.fit_transform(df_tokenized)\n",
    "\n",
    "# convert sparse matrix to dense matrix\n",
    "X_dense = X.todense()\n",
    "\n",
    "print(X_dense.shape)\n",
    "\n",
    "# print the features\n",
    "print(vectorizer.get_feature_names())"
   ]
  },
  {
   "cell_type": "code",
   "execution_count": null,
   "metadata": {},
   "outputs": [],
   "source": []
  },
  {
   "cell_type": "markdown",
   "metadata": {},
   "source": [
    "## Visualize\n",
    "\n",
    "t-SNE (t-Distributed Stochastic Neighbour Embedding) is more suited for sparse features than PCA.\n",
    "\n",
    "Text features are \"sparse\" because not all the same words always appear."
   ]
  },
  {
   "cell_type": "code",
   "execution_count": null,
   "metadata": {},
   "outputs": [],
   "source": [
    "from sklearn.manifold import TSNE\n",
    "\n",
    "tsne = TSNE(n_components=2, random_state=42)\n",
    "X_2d = tsne.fit_transform(X_dense)"
   ]
  },
  {
   "cell_type": "code",
   "execution_count": null,
   "metadata": {},
   "outputs": [],
   "source": [
    "fig, ax = plt.subplots(figsize=(15, 10))\n",
    "\n",
    "ax.scatter(X_2d[:, 0], X_2d[:, 1], c=df.y)\n",
    "\n",
    "ax.set(title='t-SNE plot for Responsibilities (X) and Job Categories (y)',\n",
    "       xlabel='X_2d[:, 0]', ylabel='X_2d[:, 1]')\n",
    "ax.grid()\n",
    "plt.show()"
   ]
  },
  {
   "cell_type": "code",
   "execution_count": null,
   "metadata": {},
   "outputs": [],
   "source": []
  },
  {
   "cell_type": "code",
   "execution_count": null,
   "metadata": {},
   "outputs": [],
   "source": []
  },
  {
   "cell_type": "code",
   "execution_count": null,
   "metadata": {
    "scrolled": false
   },
   "outputs": [],
   "source": []
  },
  {
   "cell_type": "code",
   "execution_count": null,
   "metadata": {},
   "outputs": [],
   "source": []
  },
  {
   "cell_type": "markdown",
   "metadata": {},
   "source": [
    "## Learning Curve\n",
    "\n",
    "Example of learning curve."
   ]
  },
  {
   "cell_type": "code",
   "execution_count": null,
   "metadata": {},
   "outputs": [],
   "source": []
  },
  {
   "cell_type": "code",
   "execution_count": null,
   "metadata": {},
   "outputs": [],
   "source": []
  },
  {
   "cell_type": "code",
   "execution_count": null,
   "metadata": {},
   "outputs": [],
   "source": []
  },
  {
   "cell_type": "markdown",
   "metadata": {},
   "source": [
    "## Predictions\n",
    "\n",
    "Let's perform some predictions with real job postings.\n",
    "\n",
    "1. https://careers.google.com/jobs/\n",
    "2. Pick a posting, copy the Job Responsibilities\n",
    "3. Transform the input by tokenizing and then using the TfIdfVectorizer\n",
    "4. Get the prediction"
   ]
  },
  {
   "cell_type": "code",
   "execution_count": null,
   "metadata": {},
   "outputs": [],
   "source": [
    "# https://careers.google.com/jobs/#!t=jo&jid=/google/migrations-architect-google-cloud-singapore-3974200108&\n",
    "\n",
    "test = \"\"\"Work closely with strategic clients, both engineering and non-technical, to lead migration projects and customer implementations on Google Cloud.\n",
    "Coordinate with a diverse team of stakeholders and supporting Googlers, including Sales, Solutions Engineers and the Professional Services organization.\n",
    "Build core migration tooling across all Google Cloud Platform products and relevant third-party software.\n",
    "Establish and drive planning and execution steps towards production deployments.\n",
    "Write/develop deployment templates, orchestration scripting, database replication configurations, CI/CD pipeline assemblies, etc.\"\"\"\n",
    "\n"
   ]
  },
  {
   "cell_type": "code",
   "execution_count": null,
   "metadata": {},
   "outputs": [],
   "source": []
  }
 ],
 "metadata": {
  "kernelspec": {
   "display_name": "Python 3",
   "language": "python",
   "name": "python3"
  },
  "language_info": {
   "codemirror_mode": {
    "name": "ipython",
    "version": 3
   },
   "file_extension": ".py",
   "mimetype": "text/x-python",
   "name": "python",
   "nbconvert_exporter": "python",
   "pygments_lexer": "ipython3",
   "version": "3.6.5"
  }
 },
 "nbformat": 4,
 "nbformat_minor": 2
}
