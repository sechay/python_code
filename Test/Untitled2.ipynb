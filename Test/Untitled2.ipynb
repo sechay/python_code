{
 "cells": [
  {
   "cell_type": "code",
   "execution_count": 18,
   "metadata": {},
   "outputs": [],
   "source": [
    "import mysql.connector as msq"
   ]
  },
  {
   "cell_type": "code",
   "execution_count": 33,
   "metadata": {},
   "outputs": [
    {
     "name": "stdout",
     "output_type": "stream",
     "text": [
      "('192.168.0.109', 'naveen')\n",
      "('192.168.0.109', 'nikhil')\n",
      "('127.0.0.1', 'root')\n"
     ]
    }
   ],
   "source": [
    "connection = msq.connect(host = '192.168.0.112',\n",
    "                         port = '3307',                    \n",
    "                       user = 'naveen',\n",
    "                       password = 'naveen',\n",
    "                        database = 'NAVEEN')\n",
    "cursor = connection.cursor()\n",
    "cursor.execute(\"select Host, USer from mysql.user group by user\")\n",
    "myresult = cursor.fetchall()\n",
    "for x in myresult:\n",
    "    print(x)\n",
    "connection.close()"
   ]
  },
  {
   "cell_type": "code",
   "execution_count": 34,
   "metadata": {},
   "outputs": [
    {
     "name": "stdout",
     "output_type": "stream",
     "text": [
      "(1, 'Naveen')\n"
     ]
    }
   ],
   "source": [
    "connection = msq.connect(host = '192.168.0.112',\n",
    "                         port = '3307',                    \n",
    "                       user = 'naveen',\n",
    "                       password = 'naveen',\n",
    "                        database = 'NAVEEN')\n",
    "cursor = connection.cursor()\n",
    "cursor.execute(\"select * from test\")\n",
    "myresult = cursor.fetchall()\n",
    "for x in myresult:\n",
    "    print(x)\n",
    "connection.close()"
   ]
  }
 ],
 "metadata": {
  "kernelspec": {
   "display_name": "Python 3",
   "language": "python",
   "name": "python3"
  },
  "language_info": {
   "codemirror_mode": {
    "name": "ipython",
    "version": 3
   },
   "file_extension": ".py",
   "mimetype": "text/x-python",
   "name": "python",
   "nbconvert_exporter": "python",
   "pygments_lexer": "ipython3",
   "version": "3.7.1"
  }
 },
 "nbformat": 4,
 "nbformat_minor": 2
}
