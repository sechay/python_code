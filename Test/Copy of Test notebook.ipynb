{
 "cells": [
  {
   "cell_type": "markdown",
   "metadata": {
    "id": "sUBSsHVKT2x2",
    "colab_type": "text"
   },
   "source": [
    "Save a copy of this notebook in your drive and run the below commands using `Ctrl+Enter`. This is a **MANDATORY** assignment, as it is imperative that you see the output.\n",
    "\n",
    "\n",
    "![There was an image here. Too bad you can't see it now. Time to change your internet provider :-/](https://memegenerator.net/img/instances/65149889/well-then-lets-get-started.jpg)\n"
   ]
  },
  {
   "cell_type": "code",
   "execution_count": 0,
   "metadata": {
    "id": "gdlCtnSSQTwg",
    "colab_type": "code",
    "outputId": "dc00b697-45f9-410e-86c5-63ab438ca1d1",
    "executionInfo": {
     "status": "ok",
     "timestamp": 1.554715626561E12,
     "user_tz": -480.0,
     "elapsed": 2359.0,
     "user": {
      "displayName": "Arjun pmm",
      "photoUrl": "https://lh5.googleusercontent.com/-U2ptg0dYAys/AAAAAAAAAAI/AAAAAAAAzzI/teoH5RSTdMI/s64/photo.jpg",
      "userId": "04560329791800079242"
     }
    },
    "colab": {
     "base_uri": "https://localhost:8080/",
     "height": 34.0
    }
   },
   "outputs": [
    {
     "name": "stdout",
     "output_type": "stream",
     "text": [
      "Hello World\n"
     ]
    }
   ],
   "source": [
    "print(\"Hello World\")"
   ]
  },
  {
   "cell_type": "code",
   "execution_count": 0,
   "metadata": {
    "id": "_Ors-FwSRcLT",
    "colab_type": "code",
    "outputId": "be7e0940-bdbb-4d35-ec40-897322fd5534",
    "executionInfo": {
     "status": "ok",
     "timestamp": 1.554716214469E12,
     "user_tz": -480.0,
     "elapsed": 6132.0,
     "user": {
      "displayName": "Arjun pmm",
      "photoUrl": "https://lh5.googleusercontent.com/-U2ptg0dYAys/AAAAAAAAAAI/AAAAAAAAzzI/teoH5RSTdMI/s64/photo.jpg",
      "userId": "04560329791800079242"
     }
    },
    "colab": {
     "base_uri": "https://localhost:8080/",
     "height": 51.0
    }
   },
   "outputs": [
    {
     "name": "stdout",
     "output_type": "stream",
     "text": [
      "If you have reached this place, this means you are a dedicated student!\n",
      "You made the effort to read the pre-requisite before the workshop. 🍻 to that 😁. Here's a 🍪 for you\n"
     ]
    }
   ],
   "source": [
    "print(\"If you have reached this place, this means you are a dedicated student!\")\n",
    "print(\"You made the effort to read the pre-requisite before the workshop. \\N{clinking beer mugs} to that \\N{grinning face with smiling eyes}. Here's a \\N{cookie} for you\")"
   ]
  },
  {
   "cell_type": "code",
   "execution_count": 0,
   "metadata": {
    "id": "4EZIo_iXTJvb",
    "colab_type": "code",
    "colab": {}
   },
   "outputs": [],
   "source": [
    ""
   ]
  }
 ],
 "metadata": {
  "colab": {
   "name": "Copy of Test notebook.ipynb",
   "version": "0.3.2",
   "provenance": [
    {
     "file_id": "1y7-FrQuEalL7z2CtwA7lDsoT_qwlsoLu",
     "timestamp": 1.555126797762E12
    }
   ],
   "collapsed_sections": []
  },
  "kernelspec": {
   "name": "python3",
   "display_name": "Python 3"
  }
 },
 "nbformat": 4,
 "nbformat_minor": 0
}
