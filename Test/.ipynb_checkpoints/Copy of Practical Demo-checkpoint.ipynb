{
 "cells": [
  {
   "cell_type": "markdown",
   "metadata": {
    "colab_type": "text",
    "id": "bhNK1q2cOuUD"
   },
   "source": [
    "# Objective:\n",
    "\n",
    "Predict the quality of wine (on a scale of 1-10) using the input variables:\n",
    "\n",
    "1. Fixed Acidity value\n",
    "2. Volatile Acidity value\n",
    "3. Citric Acid Content\n",
    "4. Residual Sugar level\n",
    "5. Chlorides level\n",
    "6. Free Sulfur Dioxide\n",
    "7. Total Sulfur Dioxide\n",
    "8. Density\n",
    "9. pH value\n",
    "10. Sulphates\n",
    "11. Alcohol content\n",
    "\n",
    "**It is a multi-class classification problem**"
   ]
  },
  {
   "cell_type": "markdown",
   "metadata": {
    "colab_type": "text",
    "id": "eb_fEP2HUmlO"
   },
   "source": [
    "# Loads the necessary libraries and data"
   ]
  },
  {
   "cell_type": "code",
   "execution_count": 0,
   "metadata": {
    "colab": {},
    "colab_type": "code",
    "id": "m2itsY7UDEQh"
   },
   "outputs": [],
   "source": [
    "import pandas as pd\n",
    "from sklearn.datasets import fetch_openml\n",
    "import seaborn as sns\n",
    "import numpy as np\n",
    "import matplotlib.pyplot as plt\n",
    "\n",
    "import warnings # not a necessary library. Importing it to suppress warnings so that the output looks clean\n",
    "warnings.filterwarnings(\"ignore\")"
   ]
  },
  {
   "cell_type": "markdown",
   "metadata": {
    "colab_type": "text",
    "id": "TLVTOeEpUxwl"
   },
   "source": [
    "### Fetch red wine quality data from fetch_openml dataset"
   ]
  },
  {
   "cell_type": "code",
   "execution_count": 0,
   "metadata": {
    "colab": {},
    "colab_type": "code",
    "id": "VmnoPky2FvWQ"
   },
   "outputs": [],
   "source": [
    "wine_data = fetch_openml(name='wine-quality-red')"
   ]
  },
  {
   "cell_type": "code",
   "execution_count": 6,
   "metadata": {
    "colab": {
     "base_uri": "https://localhost:8080/",
     "height": 229
    },
    "colab_type": "code",
    "executionInfo": {
     "elapsed": 832,
     "status": "ok",
     "timestamp": 1555127421892,
     "user": {
      "displayName": "Nikhil Naveen",
      "photoUrl": "",
      "userId": "04752529666557506888"
     },
     "user_tz": -480
    },
    "id": "TEFNXIowHPzD",
    "outputId": "b8c2fc05-9812-4d62-b4de-841a0c0aab87"
   },
   "outputs": [
    {
     "data": {
      "text/html": [
       "<div>\n",
       "<style scoped>\n",
       "    .dataframe tbody tr th:only-of-type {\n",
       "        vertical-align: middle;\n",
       "    }\n",
       "\n",
       "    .dataframe tbody tr th {\n",
       "        vertical-align: top;\n",
       "    }\n",
       "\n",
       "    .dataframe thead th {\n",
       "        text-align: right;\n",
       "    }\n",
       "</style>\n",
       "<table border=\"1\" class=\"dataframe\">\n",
       "  <thead>\n",
       "    <tr style=\"text-align: right;\">\n",
       "      <th></th>\n",
       "      <th>fixed_acidity</th>\n",
       "      <th>volatile_acidity</th>\n",
       "      <th>citric_acid</th>\n",
       "      <th>residual_sugar</th>\n",
       "      <th>chlorides</th>\n",
       "      <th>free_sulfur_dioxide</th>\n",
       "      <th>total_sulfur_dioxide</th>\n",
       "      <th>density</th>\n",
       "      <th>pH</th>\n",
       "      <th>sulphates</th>\n",
       "      <th>alcohol</th>\n",
       "      <th>target_quality</th>\n",
       "    </tr>\n",
       "  </thead>\n",
       "  <tbody>\n",
       "    <tr>\n",
       "      <th>0</th>\n",
       "      <td>7.4</td>\n",
       "      <td>0.70</td>\n",
       "      <td>0.00</td>\n",
       "      <td>1.9</td>\n",
       "      <td>0.076</td>\n",
       "      <td>11.0</td>\n",
       "      <td>34.0</td>\n",
       "      <td>0.9978</td>\n",
       "      <td>3.51</td>\n",
       "      <td>0.56</td>\n",
       "      <td>9.4</td>\n",
       "      <td>5</td>\n",
       "    </tr>\n",
       "    <tr>\n",
       "      <th>1</th>\n",
       "      <td>7.8</td>\n",
       "      <td>0.88</td>\n",
       "      <td>0.00</td>\n",
       "      <td>2.6</td>\n",
       "      <td>0.098</td>\n",
       "      <td>25.0</td>\n",
       "      <td>67.0</td>\n",
       "      <td>0.9968</td>\n",
       "      <td>3.20</td>\n",
       "      <td>0.68</td>\n",
       "      <td>9.8</td>\n",
       "      <td>5</td>\n",
       "    </tr>\n",
       "    <tr>\n",
       "      <th>2</th>\n",
       "      <td>7.8</td>\n",
       "      <td>0.76</td>\n",
       "      <td>0.04</td>\n",
       "      <td>2.3</td>\n",
       "      <td>0.092</td>\n",
       "      <td>15.0</td>\n",
       "      <td>54.0</td>\n",
       "      <td>0.9970</td>\n",
       "      <td>3.26</td>\n",
       "      <td>0.65</td>\n",
       "      <td>9.8</td>\n",
       "      <td>5</td>\n",
       "    </tr>\n",
       "    <tr>\n",
       "      <th>3</th>\n",
       "      <td>11.2</td>\n",
       "      <td>0.28</td>\n",
       "      <td>0.56</td>\n",
       "      <td>1.9</td>\n",
       "      <td>0.075</td>\n",
       "      <td>17.0</td>\n",
       "      <td>60.0</td>\n",
       "      <td>0.9980</td>\n",
       "      <td>3.16</td>\n",
       "      <td>0.58</td>\n",
       "      <td>9.8</td>\n",
       "      <td>6</td>\n",
       "    </tr>\n",
       "    <tr>\n",
       "      <th>4</th>\n",
       "      <td>7.4</td>\n",
       "      <td>0.70</td>\n",
       "      <td>0.00</td>\n",
       "      <td>1.9</td>\n",
       "      <td>0.076</td>\n",
       "      <td>11.0</td>\n",
       "      <td>34.0</td>\n",
       "      <td>0.9978</td>\n",
       "      <td>3.51</td>\n",
       "      <td>0.56</td>\n",
       "      <td>9.4</td>\n",
       "      <td>5</td>\n",
       "    </tr>\n",
       "  </tbody>\n",
       "</table>\n",
       "</div>"
      ],
      "text/plain": [
       "   fixed_acidity  volatile_acidity  citric_acid  residual_sugar  chlorides  \\\n",
       "0            7.4              0.70         0.00             1.9      0.076   \n",
       "1            7.8              0.88         0.00             2.6      0.098   \n",
       "2            7.8              0.76         0.04             2.3      0.092   \n",
       "3           11.2              0.28         0.56             1.9      0.075   \n",
       "4            7.4              0.70         0.00             1.9      0.076   \n",
       "\n",
       "   free_sulfur_dioxide  total_sulfur_dioxide  density    pH  sulphates  \\\n",
       "0                 11.0                  34.0   0.9978  3.51       0.56   \n",
       "1                 25.0                  67.0   0.9968  3.20       0.68   \n",
       "2                 15.0                  54.0   0.9970  3.26       0.65   \n",
       "3                 17.0                  60.0   0.9980  3.16       0.58   \n",
       "4                 11.0                  34.0   0.9978  3.51       0.56   \n",
       "\n",
       "   alcohol target_quality  \n",
       "0      9.4              5  \n",
       "1      9.8              5  \n",
       "2      9.8              5  \n",
       "3      9.8              6  \n",
       "4      9.4              5  "
      ]
     },
     "execution_count": 6,
     "metadata": {
      "tags": []
     },
     "output_type": "execute_result"
    }
   ],
   "source": [
    "wine_df = pd.DataFrame(wine_data.data, columns=wine_data.feature_names)\n",
    "wine_df['target_quality'] = wine_data.target\n",
    "wine_df.head()"
   ]
  },
  {
   "cell_type": "markdown",
   "metadata": {
    "colab_type": "text",
    "id": "99GaUIgORKcO"
   },
   "source": [
    "### Checking the data type of each predictor and target"
   ]
  },
  {
   "cell_type": "code",
   "execution_count": 7,
   "metadata": {
    "colab": {
     "base_uri": "https://localhost:8080/",
     "height": 238
    },
    "colab_type": "code",
    "executionInfo": {
     "elapsed": 909,
     "status": "ok",
     "timestamp": 1555127504509,
     "user": {
      "displayName": "Nikhil Naveen",
      "photoUrl": "",
      "userId": "04752529666557506888"
     },
     "user_tz": -480
    },
    "id": "WTfBJifERK8q",
    "outputId": "7c52dfc9-4a7f-4272-9a91-aaeb96c141f1"
   },
   "outputs": [
    {
     "data": {
      "text/plain": [
       "fixed_acidity           float64\n",
       "volatile_acidity        float64\n",
       "citric_acid             float64\n",
       "residual_sugar          float64\n",
       "chlorides               float64\n",
       "free_sulfur_dioxide     float64\n",
       "total_sulfur_dioxide    float64\n",
       "density                 float64\n",
       "pH                      float64\n",
       "sulphates               float64\n",
       "alcohol                 float64\n",
       "target_quality           object\n",
       "dtype: object"
      ]
     },
     "execution_count": 7,
     "metadata": {
      "tags": []
     },
     "output_type": "execute_result"
    }
   ],
   "source": [
    "wine_df.dtypes"
   ]
  },
  {
   "cell_type": "markdown",
   "metadata": {
    "colab_type": "text",
    "id": "MHCJrJ5QReRT"
   },
   "source": [
    "Change the data type of `target_quality` to integer"
   ]
  },
  {
   "cell_type": "code",
   "execution_count": 0,
   "metadata": {
    "colab": {},
    "colab_type": "code",
    "id": "uwptSMb3RkQ1"
   },
   "outputs": [],
   "source": [
    "wine_df['target_quality'] = wine_df['target_quality'].astype('int64')"
   ]
  },
  {
   "cell_type": "code",
   "execution_count": 9,
   "metadata": {
    "colab": {
     "base_uri": "https://localhost:8080/",
     "height": 322
    },
    "colab_type": "code",
    "executionInfo": {
     "elapsed": 760,
     "status": "ok",
     "timestamp": 1555127610398,
     "user": {
      "displayName": "Nikhil Naveen",
      "photoUrl": "",
      "userId": "04752529666557506888"
     },
     "user_tz": -480
    },
    "id": "0jPvwJxAORE9",
    "outputId": "4be83405-7e30-4bcd-ae04-46d3584f18fc"
   },
   "outputs": [
    {
     "data": {
      "text/html": [
       "<div>\n",
       "<style scoped>\n",
       "    .dataframe tbody tr th:only-of-type {\n",
       "        vertical-align: middle;\n",
       "    }\n",
       "\n",
       "    .dataframe tbody tr th {\n",
       "        vertical-align: top;\n",
       "    }\n",
       "\n",
       "    .dataframe thead th {\n",
       "        text-align: right;\n",
       "    }\n",
       "</style>\n",
       "<table border=\"1\" class=\"dataframe\">\n",
       "  <thead>\n",
       "    <tr style=\"text-align: right;\">\n",
       "      <th></th>\n",
       "      <th>fixed_acidity</th>\n",
       "      <th>volatile_acidity</th>\n",
       "      <th>citric_acid</th>\n",
       "      <th>residual_sugar</th>\n",
       "      <th>chlorides</th>\n",
       "      <th>free_sulfur_dioxide</th>\n",
       "      <th>total_sulfur_dioxide</th>\n",
       "      <th>density</th>\n",
       "      <th>pH</th>\n",
       "      <th>sulphates</th>\n",
       "      <th>alcohol</th>\n",
       "      <th>target_quality</th>\n",
       "    </tr>\n",
       "  </thead>\n",
       "  <tbody>\n",
       "    <tr>\n",
       "      <th>count</th>\n",
       "      <td>1599.000000</td>\n",
       "      <td>1599.000000</td>\n",
       "      <td>1599.000000</td>\n",
       "      <td>1599.000000</td>\n",
       "      <td>1599.000000</td>\n",
       "      <td>1599.000000</td>\n",
       "      <td>1599.000000</td>\n",
       "      <td>1599.000000</td>\n",
       "      <td>1599.000000</td>\n",
       "      <td>1599.000000</td>\n",
       "      <td>1599.000000</td>\n",
       "      <td>1599.000000</td>\n",
       "    </tr>\n",
       "    <tr>\n",
       "      <th>mean</th>\n",
       "      <td>8.319637</td>\n",
       "      <td>0.527821</td>\n",
       "      <td>0.270976</td>\n",
       "      <td>2.538806</td>\n",
       "      <td>0.087467</td>\n",
       "      <td>15.874922</td>\n",
       "      <td>46.467792</td>\n",
       "      <td>0.996747</td>\n",
       "      <td>3.311113</td>\n",
       "      <td>0.658149</td>\n",
       "      <td>10.422983</td>\n",
       "      <td>5.636023</td>\n",
       "    </tr>\n",
       "    <tr>\n",
       "      <th>std</th>\n",
       "      <td>1.741096</td>\n",
       "      <td>0.179060</td>\n",
       "      <td>0.194801</td>\n",
       "      <td>1.409928</td>\n",
       "      <td>0.047065</td>\n",
       "      <td>10.460157</td>\n",
       "      <td>32.895324</td>\n",
       "      <td>0.001887</td>\n",
       "      <td>0.154386</td>\n",
       "      <td>0.169507</td>\n",
       "      <td>1.065668</td>\n",
       "      <td>0.807569</td>\n",
       "    </tr>\n",
       "    <tr>\n",
       "      <th>min</th>\n",
       "      <td>4.600000</td>\n",
       "      <td>0.120000</td>\n",
       "      <td>0.000000</td>\n",
       "      <td>0.900000</td>\n",
       "      <td>0.012000</td>\n",
       "      <td>1.000000</td>\n",
       "      <td>6.000000</td>\n",
       "      <td>0.990070</td>\n",
       "      <td>2.740000</td>\n",
       "      <td>0.330000</td>\n",
       "      <td>8.400000</td>\n",
       "      <td>3.000000</td>\n",
       "    </tr>\n",
       "    <tr>\n",
       "      <th>25%</th>\n",
       "      <td>7.100000</td>\n",
       "      <td>0.390000</td>\n",
       "      <td>0.090000</td>\n",
       "      <td>1.900000</td>\n",
       "      <td>0.070000</td>\n",
       "      <td>7.000000</td>\n",
       "      <td>22.000000</td>\n",
       "      <td>0.995600</td>\n",
       "      <td>3.210000</td>\n",
       "      <td>0.550000</td>\n",
       "      <td>9.500000</td>\n",
       "      <td>5.000000</td>\n",
       "    </tr>\n",
       "    <tr>\n",
       "      <th>50%</th>\n",
       "      <td>7.900000</td>\n",
       "      <td>0.520000</td>\n",
       "      <td>0.260000</td>\n",
       "      <td>2.200000</td>\n",
       "      <td>0.079000</td>\n",
       "      <td>14.000000</td>\n",
       "      <td>38.000000</td>\n",
       "      <td>0.996750</td>\n",
       "      <td>3.310000</td>\n",
       "      <td>0.620000</td>\n",
       "      <td>10.200000</td>\n",
       "      <td>6.000000</td>\n",
       "    </tr>\n",
       "    <tr>\n",
       "      <th>75%</th>\n",
       "      <td>9.200000</td>\n",
       "      <td>0.640000</td>\n",
       "      <td>0.420000</td>\n",
       "      <td>2.600000</td>\n",
       "      <td>0.090000</td>\n",
       "      <td>21.000000</td>\n",
       "      <td>62.000000</td>\n",
       "      <td>0.997835</td>\n",
       "      <td>3.400000</td>\n",
       "      <td>0.730000</td>\n",
       "      <td>11.100000</td>\n",
       "      <td>6.000000</td>\n",
       "    </tr>\n",
       "    <tr>\n",
       "      <th>max</th>\n",
       "      <td>15.900000</td>\n",
       "      <td>1.580000</td>\n",
       "      <td>1.000000</td>\n",
       "      <td>15.500000</td>\n",
       "      <td>0.611000</td>\n",
       "      <td>72.000000</td>\n",
       "      <td>289.000000</td>\n",
       "      <td>1.003690</td>\n",
       "      <td>4.010000</td>\n",
       "      <td>2.000000</td>\n",
       "      <td>14.900000</td>\n",
       "      <td>8.000000</td>\n",
       "    </tr>\n",
       "  </tbody>\n",
       "</table>\n",
       "</div>"
      ],
      "text/plain": [
       "       fixed_acidity  volatile_acidity  citric_acid  residual_sugar  \\\n",
       "count    1599.000000       1599.000000  1599.000000     1599.000000   \n",
       "mean        8.319637          0.527821     0.270976        2.538806   \n",
       "std         1.741096          0.179060     0.194801        1.409928   \n",
       "min         4.600000          0.120000     0.000000        0.900000   \n",
       "25%         7.100000          0.390000     0.090000        1.900000   \n",
       "50%         7.900000          0.520000     0.260000        2.200000   \n",
       "75%         9.200000          0.640000     0.420000        2.600000   \n",
       "max        15.900000          1.580000     1.000000       15.500000   \n",
       "\n",
       "         chlorides  free_sulfur_dioxide  total_sulfur_dioxide      density  \\\n",
       "count  1599.000000          1599.000000           1599.000000  1599.000000   \n",
       "mean      0.087467            15.874922             46.467792     0.996747   \n",
       "std       0.047065            10.460157             32.895324     0.001887   \n",
       "min       0.012000             1.000000              6.000000     0.990070   \n",
       "25%       0.070000             7.000000             22.000000     0.995600   \n",
       "50%       0.079000            14.000000             38.000000     0.996750   \n",
       "75%       0.090000            21.000000             62.000000     0.997835   \n",
       "max       0.611000            72.000000            289.000000     1.003690   \n",
       "\n",
       "                pH    sulphates      alcohol  target_quality  \n",
       "count  1599.000000  1599.000000  1599.000000     1599.000000  \n",
       "mean      3.311113     0.658149    10.422983        5.636023  \n",
       "std       0.154386     0.169507     1.065668        0.807569  \n",
       "min       2.740000     0.330000     8.400000        3.000000  \n",
       "25%       3.210000     0.550000     9.500000        5.000000  \n",
       "50%       3.310000     0.620000    10.200000        6.000000  \n",
       "75%       3.400000     0.730000    11.100000        6.000000  \n",
       "max       4.010000     2.000000    14.900000        8.000000  "
      ]
     },
     "execution_count": 9,
     "metadata": {
      "tags": []
     },
     "output_type": "execute_result"
    }
   ],
   "source": [
    "wine_df.describe()"
   ]
  },
  {
   "cell_type": "markdown",
   "metadata": {
    "colab_type": "text",
    "id": "-jKWcX63VEXf"
   },
   "source": [
    "# Exploratory Data Analysis and Feature Derivation"
   ]
  },
  {
   "cell_type": "markdown",
   "metadata": {
    "colab_type": "text",
    "id": "WC6B9Gu-Mzxl"
   },
   "source": [
    "### Checking the number of NULL values in each column"
   ]
  },
  {
   "cell_type": "code",
   "execution_count": 10,
   "metadata": {
    "colab": {
     "base_uri": "https://localhost:8080/",
     "height": 238
    },
    "colab_type": "code",
    "executionInfo": {
     "elapsed": 833,
     "status": "ok",
     "timestamp": 1555127753516,
     "user": {
      "displayName": "Nikhil Naveen",
      "photoUrl": "",
      "userId": "04752529666557506888"
     },
     "user_tz": -480
    },
    "id": "ltLfEzhnMzbm",
    "outputId": "15bab46c-b045-426b-e01d-9d12a84405bd"
   },
   "outputs": [
    {
     "data": {
      "text/plain": [
       "fixed_acidity           0\n",
       "volatile_acidity        0\n",
       "citric_acid             0\n",
       "residual_sugar          0\n",
       "chlorides               0\n",
       "free_sulfur_dioxide     0\n",
       "total_sulfur_dioxide    0\n",
       "density                 0\n",
       "pH                      0\n",
       "sulphates               0\n",
       "alcohol                 0\n",
       "target_quality          0\n",
       "dtype: int64"
      ]
     },
     "execution_count": 10,
     "metadata": {
      "tags": []
     },
     "output_type": "execute_result"
    }
   ],
   "source": [
    "wine_df.isnull().sum()"
   ]
  },
  {
   "cell_type": "markdown",
   "metadata": {
    "colab_type": "text",
    "id": "LEJJz9o8QPgq"
   },
   "source": [
    "### **Histogram** - count plot of the target variable\n",
    "It is used in univariate analysis, they give a rough sense of density of underlying distribution of data more precisely probability distribution of data. The plotting of the histogram depends upon ‘bins’ "
   ]
  },
  {
   "cell_type": "code",
   "execution_count": 11,
   "metadata": {
    "colab": {
     "base_uri": "https://localhost:8080/",
     "height": 34
    },
    "colab_type": "code",
    "executionInfo": {
     "elapsed": 933,
     "status": "ok",
     "timestamp": 1555127837181,
     "user": {
      "displayName": "Nikhil Naveen",
      "photoUrl": "",
      "userId": "04752529666557506888"
     },
     "user_tz": -480
    },
    "id": "-PZimOaMSbFt",
    "outputId": "a51b4aee-0bcf-4157-bf4b-97ac51202b83"
   },
   "outputs": [
    {
     "data": {
      "text/plain": [
       "array([5, 6, 7, 4, 8, 3])"
      ]
     },
     "execution_count": 11,
     "metadata": {
      "tags": []
     },
     "output_type": "execute_result"
    }
   ],
   "source": [
    "wine_df['target_quality'].unique()"
   ]
  },
  {
   "cell_type": "code",
   "execution_count": 12,
   "metadata": {
    "colab": {
     "base_uri": "https://localhost:8080/",
     "height": 378
    },
    "colab_type": "code",
    "executionInfo": {
     "elapsed": 863,
     "status": "ok",
     "timestamp": 1555127870396,
     "user": {
      "displayName": "Nikhil Naveen",
      "photoUrl": "",
      "userId": "04752529666557506888"
     },
     "user_tz": -480
    },
    "id": "nVs15j5vIcq8",
    "outputId": "9c07842e-8051-422d-e8cb-4121d4d4f558"
   },
   "outputs": [
    {
     "data": {
      "text/plain": [
       "<matplotlib.axes._subplots.AxesSubplot at 0x7fed9b0b9c88>"
      ]
     },
     "execution_count": 12,
     "metadata": {
      "tags": []
     },
     "output_type": "execute_result"
    },
    {
     "data": {
      "image/png": "[encoded data removed]",
      "text/plain": [
       "<Figure size 576x396 with 1 Axes>"
      ]
     },
     "metadata": {
      "tags": []
     },
     "output_type": "display_data"
    }
   ],
   "source": [
    "\n",
    "sns.countplot(x='target_quality', data=wine_df)"
   ]
  },
  {
   "cell_type": "markdown",
   "metadata": {
    "colab_type": "text",
    "id": "vveZYmHJS27Z"
   },
   "source": [
    "* The above distribution shows the range for response variable (target_quality) is between 3 to 8.\n",
    "\n",
    "\n",
    "\n"
   ]
  },
  {
   "cell_type": "markdown",
   "metadata": {
    "colab_type": "text",
    "id": "RBsPMvhWT_mw"
   },
   "source": [
    "### Corelation between features/variables:"
   ]
  },
  {
   "cell_type": "code",
   "execution_count": 13,
   "metadata": {
    "colab": {
     "base_uri": "https://localhost:8080/",
     "height": 630
    },
    "colab_type": "code",
    "executionInfo": {
     "elapsed": 2532,
     "status": "ok",
     "timestamp": 1555128050672,
     "user": {
      "displayName": "Nikhil Naveen",
      "photoUrl": "",
      "userId": "04752529666557506888"
     },
     "user_tz": -480
    },
    "id": "0or5NBtUTl98",
    "outputId": "693c9715-5034-4d86-aaf0-61a3d13d6eca"
   },
   "outputs": [
    {
     "data": {
      "text/plain": [
       "<matplotlib.axes._subplots.AxesSubplot at 0x7fed98b7b160>"
      ]
     },
     "execution_count": 13,
     "metadata": {
      "tags": []
     },
     "output_type": "execute_result"
    },
    {
     "data": {
      "image/png": "[encoded data removed]",
      "text/plain": [
       "<Figure size 792x648 with 2 Axes>"
      ]
     },
     "metadata": {
      "tags": []
     },
     "output_type": "display_data"
    }
   ],
   "source": [
    "correlation = wine_df.corr()\n",
    "# sns.heatmap(uniform_data)\n",
    "\n",
    "# Set up the matplotlib figure\n",
    "f, ax = plt.subplots(figsize=(11, 9))\n",
    "\n",
    "# Generate a custom diverging colormap\n",
    "cmap = sns.diverging_palette(220, 10, as_cmap=True)\n",
    "\n",
    "# Draw the heatmap with the mask and correct aspect ratio\n",
    "sns.heatmap(correlation, cmap=cmap, vmin=0, vmax=1, center=0,\n",
    "            square=True, linewidths=.5, cbar_kws={\"shrink\": .5}, annot=True)"
   ]
  },
  {
   "cell_type": "markdown",
   "metadata": {
    "colab_type": "text",
    "id": "DY_XoLyhYXQN"
   },
   "source": [
    "* The squares with positive values show direct co-relationships between features. The higher the values, the stronger these relationships are — they’ll be more reddish. That means, if one feature increases, the other one also tends to increase, and vice-versa.\n",
    "\n",
    "* The squares that have negative values show an inverse co-relationship. The more negative these values get, the more inversely proportional they are, and they’ll be more blue. This means that if the value of one feature is higher, the value of the other one gets lower.\n",
    "\n",
    "* Finally, squares close to zero indicate almost no co-dependency between those sets of features."
   ]
  },
  {
   "cell_type": "markdown",
   "metadata": {
    "colab_type": "text",
    "id": "NDk_SjaWbl-X"
   },
   "source": [
    "### Categorizing the quality into bad, average and good\n",
    "* Create a new discreet, categorical response variable/feature ('rating') from existing 'quality' variable.\n",
    "i.e.\n",
    "      bad: 1-4\n",
    "      average: 5-6\n",
    "      good: 7-10"
   ]
  },
  {
   "cell_type": "code",
   "execution_count": 0,
   "metadata": {
    "colab": {},
    "colab_type": "code",
    "id": "pYXA-XXFbNna"
   },
   "outputs": [],
   "source": [
    "reviews = []\n",
    "for i in wine_df['target_quality']:\n",
    "    if i >= 1 and i <= 3:\n",
    "        reviews.append('1')\n",
    "    elif i >= 4 and i <= 7:\n",
    "        reviews.append('2')\n",
    "    elif i >= 8 and i <= 10:\n",
    "        reviews.append('3')\n",
    "wine_df['reviews'] = reviews"
   ]
  },
  {
   "cell_type": "markdown",
   "metadata": {
    "colab_type": "text",
    "id": "KS9HjoQwcAez"
   },
   "source": [
    "# Training the ML models and evaluating them - Classification"
   ]
  },
  {
   "cell_type": "markdown",
   "metadata": {
    "colab_type": "text",
    "id": "fcsCUUF9eUFk"
   },
   "source": [
    "## Model evaluation metrics:\n",
    "\n",
    "\n",
    "### Confusion Matrix\n",
    "The confusion matrix for a multi-class classification problem can help you determine mistake patterns.\n",
    "\n",
    "For a Binary Classifier,\n",
    "![alt text](https://cdn-images-1.medium.com/max/2000/1*mrBc8OW0NfXv43fpSnMa9g.png)\n",
    "\n",
    "**True Positive** : A true positive is an outcome where the model correctly predicts the positive class. \n",
    "\n",
    "**True Negative**: A true negative is an outcome where the model correctly predicts the negative class.\n",
    "\n",
    "**False Positive** : An outcome in which the model mistakenly predicted the positive class. \n",
    "\n",
    "**False Negative**: An outcome in which the model mistakenly predicted the negative class\n",
    "\n",
    "### Accuracy\n",
    "Accuracy is the fraction of predictions our model got right.\n",
    "\n",
    "![alt text](https://cdn-images-1.medium.com/max/2000/1*i2kn5c_o0ZWu9ncUWCu8bg.png)\n",
    "\n",
    "### Precision\n",
    "Out of all the classes, how much we predicted correctly. Precision should be as high as possible.\n",
    "\n",
    "\n",
    "### Recall\n",
    "Out of all the positive classes, how much we predicted correctly. It is also called sensitivity or true positive rate (TPR).\n",
    "\n",
    "### F1 score\n",
    "It is often convenient to combine precision and recall into a single metric called the F1 score, in particular, if you need a simple way to compare two classifiers. The F1 score is the harmonic mean of precision and recall.\n",
    "\n",
    "![alt text](https://cdn-images-1.medium.com/max/2000/1*UJxVqLnbSj42eRhasKeLOA.png)\n",
    "\n",
    "![alt text](https://s3.amazonaws.com/stackabuse/media/understanding-roc-curves-python-2.png)\n",
    "\n",
    "### Receiver Operator Curve(ROC) & Area Under the Curve(AUC)\n",
    "ROC curve is an important classification evaluation metric. It tells us how good the model is accurately predicted. The ROC curve shows the sensitivity of the classifier by plotting the rate of true positives to the rate of false positives. If the classifier is outstanding, the true positive rate will increase, and the area under the curve will be close to 1. If the classifier is similar to random guessing, the true positive rate will increase linearly with the false positive rate. The better the AUC measure, the better the model. Keep in mind that the AUC-ROC curve is plotted for each class outcome separately\n",
    "![alt text](https://cdn-images-1.medium.com/max/2000/1*PqbUAfo5VKom_UriSQsCKQ.png)"
   ]
  },
  {
   "cell_type": "code",
   "execution_count": 0,
   "metadata": {
    "colab": {},
    "colab_type": "code",
    "id": "AYGDPLLyUHza"
   },
   "outputs": [],
   "source": [
    "from sklearn.linear_model import LogisticRegression\n",
    "from sklearn.tree import DecisionTreeClassifier\n",
    "from sklearn.metrics import confusion_matrix, classification_report, accuracy_score\n",
    "from sklearn.preprocessing import StandardScaler\n",
    "from sklearn.model_selection import train_test_split"
   ]
  },
  {
   "cell_type": "markdown",
   "metadata": {
    "colab_type": "text",
    "id": "anbCOzQ8dBjq"
   },
   "source": [
    "## Train-Test split (Holdout method)\n",
    "Split the data into 2 sets - 80% for training and 20% for testing\n",
    "The model will be trained on 80% of the data and tested on the unseen data (remaining 20%). The quality of the model is decided on the basis of performance on unseen data"
   ]
  },
  {
   "cell_type": "code",
   "execution_count": 0,
   "metadata": {
    "colab": {},
    "colab_type": "code",
    "id": "p2z9YrzcdAbe"
   },
   "outputs": [],
   "source": [
    "trainX = wine_df.drop(['target_quality', 'reviews'] , axis = 1)\n",
    "trainy = wine_df['reviews']\n",
    "X_train, X_test, y_train, y_test = train_test_split(trainX, trainy, test_size = 0.2, random_state = 42)"
   ]
  },
  {
   "cell_type": "markdown",
   "metadata": {
    "colab_type": "text",
    "id": "1Apxw5BxceHO"
   },
   "source": [
    "## Standardize features by removing the mean and scaling to unit variance\n",
    "\n",
    "Standardization of a dataset is a common requirement for many machine learning estimators: they might behave badly if the individual features do not more or less look like standard normally distributed data (e.g. Gaussian with 0 mean and unit variance)."
   ]
  },
  {
   "cell_type": "code",
   "execution_count": 0,
   "metadata": {
    "colab": {},
    "colab_type": "code",
    "id": "Z32U0yn4cP0d"
   },
   "outputs": [],
   "source": [
    "scaler = StandardScaler()\n",
    "\n",
    "X_train = scaler.fit_transform(X_train)\n",
    "X_test = scaler.fit_transform(X_test)\n",
    "score = {}"
   ]
  },
  {
   "cell_type": "markdown",
   "metadata": {
    "colab_type": "text",
    "id": "BF7ATe2LeAci"
   },
   "source": [
    "## Logistic Regression Model"
   ]
  },
  {
   "cell_type": "code",
   "execution_count": 19,
   "metadata": {
    "colab": {
     "base_uri": "https://localhost:8080/",
     "height": 255
    },
    "colab_type": "code",
    "executionInfo": {
     "elapsed": 871,
     "status": "ok",
     "timestamp": 1555129639516,
     "user": {
      "displayName": "Nikhil Naveen",
      "photoUrl": "",
      "userId": "04752529666557506888"
     },
     "user_tz": -480
    },
    "id": "q7nqJOH0c8-i",
    "outputId": "9b6c20e7-ff4d-43fc-a37c-771711385fa4"
   },
   "outputs": [
    {
     "name": "stdout",
     "output_type": "stream",
     "text": [
      "              precision    recall  f1-score   support\n",
      "\n",
      "           1       0.00      0.00      0.00         1\n",
      "           2       0.98      1.00      0.99       314\n",
      "           3       0.00      0.00      0.00         5\n",
      "\n",
      "   micro avg       0.98      0.98      0.98       320\n",
      "   macro avg       0.33      0.33      0.33       320\n",
      "weighted avg       0.96      0.98      0.97       320\n",
      "\n",
      "[[  0   1   0]\n",
      " [  0 314   0]\n",
      " [  0   5   0]]\n",
      "98.125\n"
     ]
    }
   ],
   "source": [
    "lr = LogisticRegression() # declaring the ML method which is Logistic Regression\n",
    "lr.fit(X_train, y_train) # training the model\n",
    "predicted_lr = lr.predict(X_test) # predicting the values on unseen data\n",
    "print(classification_report(y_test, predicted_lr))\n",
    "\n",
    "lr_conf_matrix = confusion_matrix(y_test, predicted_lr)\n",
    "lr_acc_score = accuracy_score(y_test, predicted_lr)\n",
    "\n",
    "print(lr_conf_matrix)\n",
    "print(lr_acc_score*100)\n",
    "\n",
    "score.update({'logistic_regressor': lr_acc_score*100})\n"
   ]
  },
  {
   "cell_type": "markdown",
   "metadata": {
    "colab_type": "text",
    "id": "6O_aRJVpitxc"
   },
   "source": [
    "## Decision Tree Model"
   ]
  },
  {
   "cell_type": "code",
   "execution_count": 20,
   "metadata": {
    "colab": {
     "base_uri": "https://localhost:8080/",
     "height": 255
    },
    "colab_type": "code",
    "executionInfo": {
     "elapsed": 783,
     "status": "ok",
     "timestamp": 1555129736187,
     "user": {
      "displayName": "Nikhil Naveen",
      "photoUrl": "",
      "userId": "04752529666557506888"
     },
     "user_tz": -480
    },
    "id": "rBMABalFcjkt",
    "outputId": "8c43be34-d8ff-4461-bd05-69b68b0fc756"
   },
   "outputs": [
    {
     "name": "stdout",
     "output_type": "stream",
     "text": [
      "              precision    recall  f1-score   support\n",
      "\n",
      "           1       0.00      0.00      0.00         1\n",
      "           2       0.98      0.96      0.97       314\n",
      "           3       0.10      0.20      0.13         5\n",
      "\n",
      "   micro avg       0.94      0.94      0.94       320\n",
      "   macro avg       0.36      0.39      0.37       320\n",
      "weighted avg       0.97      0.94      0.95       320\n",
      "\n",
      "[[  0   1   0]\n",
      " [  4 301   9]\n",
      " [  0   4   1]]\n",
      "94.375\n"
     ]
    }
   ],
   "source": [
    "dt = DecisionTreeClassifier()\n",
    "dt.fit(X_train,y_train)\n",
    "predicted_dt = dt.predict(X_test)\n",
    "print(classification_report(y_test, predicted_dt))\n",
    "\n",
    "dt_conf_matrix = confusion_matrix(y_test, predicted_dt)\n",
    "dt_acc_score = accuracy_score(y_test, predicted_dt)\n",
    "print(dt_conf_matrix)\n",
    "print(dt_acc_score*100)\n",
    "score.update({'DecisionTreeClassifier': dt_acc_score*100})"
   ]
  },
  {
   "cell_type": "markdown",
   "metadata": {
    "colab_type": "text",
    "id": "QriH0irWvRSG"
   },
   "source": [
    "There could be a possibility that the modela has **OVERFITTED**. There are methods to counter overfitting - the K-Fold Cross validation method. "
   ]
  },
  {
   "cell_type": "markdown",
   "metadata": {
    "colab_type": "text",
    "id": "BCeYzhrNsXyP"
   },
   "source": [
    "# Training the ML models and evaluating them - Regression"
   ]
  },
  {
   "cell_type": "markdown",
   "metadata": {
    "colab_type": "text",
    "id": "RHFpdhT4sw9w"
   },
   "source": [
    "## Model evaluation metrics\n",
    "\n",
    "**RMSE (Root Mean Square Error)**\n",
    "\n",
    "It represents the sample standard deviation of the differences between predicted values and observed values (called residuals). Mathematically, it is calculated using this formula:\n",
    "\n",
    "![alt text](https://cdn-images-1.medium.com/max/2000/1*pQR9id8CtnsdKljm8KODuw.png)\n",
    "\n",
    "**MAE**\n",
    "\n",
    "MAE is the average of the absolute difference between the predicted values and observed value. The MAE is a linear score which means that all the individual differences are weighted equally in the average.\n",
    "\n",
    "![alt text](https://cdn-images-1.medium.com/max/2000/1*iLabSjpdwd1TaZyKdDKYBA.png)\n"
   ]
  },
  {
   "cell_type": "code",
   "execution_count": 0,
   "metadata": {
    "colab": {},
    "colab_type": "code",
    "id": "qM39eJCzuO5-"
   },
   "outputs": [],
   "source": [
    "from sklearn.linear_model import LinearRegression\n",
    "from sklearn.metrics import mean_squared_error\n",
    "from math import sqrt"
   ]
  },
  {
   "cell_type": "code",
   "execution_count": 0,
   "metadata": {
    "colab": {},
    "colab_type": "code",
    "id": "ZKFImCboshZW"
   },
   "outputs": [],
   "source": [
    "trainX = wine_df.drop(['target_quality', 'reviews'] , axis = 1)\n",
    "trainy = wine_df['target_quality']\n",
    "X_train, X_test, y_train, y_test = train_test_split(trainX, trainy, test_size = 0.2, random_state = 42)"
   ]
  },
  {
   "cell_type": "code",
   "execution_count": 0,
   "metadata": {
    "colab": {},
    "colab_type": "code",
    "id": "vgH3Ejy5snLj"
   },
   "outputs": [],
   "source": [
    "scaler = StandardScaler()\n",
    "\n",
    "X_train = scaler.fit_transform(X_train)\n",
    "X_test = scaler.fit_transform(X_test)\n",
    "score = {}"
   ]
  },
  {
   "cell_type": "markdown",
   "metadata": {
    "colab_type": "text",
    "id": "725cR4ESvpq0"
   },
   "source": [
    "## Linear Regression Model"
   ]
  },
  {
   "cell_type": "code",
   "execution_count": 24,
   "metadata": {
    "colab": {
     "base_uri": "https://localhost:8080/",
     "height": 51
    },
    "colab_type": "code",
    "executionInfo": {
     "elapsed": 840,
     "status": "ok",
     "timestamp": 1555129869257,
     "user": {
      "displayName": "Nikhil Naveen",
      "photoUrl": "",
      "userId": "04752529666557506888"
     },
     "user_tz": -480
    },
    "id": "jkbXOEW5uCl2",
    "outputId": "e1a82a28-f148-4446-fc59-35eb4a847f12"
   },
   "outputs": [
    {
     "data": {
      "text/plain": [
       "LinearRegression(copy_X=True, fit_intercept=True, n_jobs=None,\n",
       "         normalize=False)"
      ]
     },
     "execution_count": 24,
     "metadata": {
      "tags": []
     },
     "output_type": "execute_result"
    }
   ],
   "source": [
    "regressor = LinearRegression()\n",
    "regressor.fit(X_train, y_train)"
   ]
  },
  {
   "cell_type": "code",
   "execution_count": 25,
   "metadata": {
    "colab": {
     "base_uri": "https://localhost:8080/",
     "height": 34
    },
    "colab_type": "code",
    "executionInfo": {
     "elapsed": 851,
     "status": "ok",
     "timestamp": 1555129874157,
     "user": {
      "displayName": "Nikhil Naveen",
      "photoUrl": "",
      "userId": "04752529666557506888"
     },
     "user_tz": -480
    },
    "id": "vwkhXER6uEXl",
    "outputId": "8661f41c-f92f-4b27-e3cb-00a8ebbd2fc6"
   },
   "outputs": [
    {
     "name": "stdout",
     "output_type": "stream",
     "text": [
      "[5.31604945 5.01510456 5.68127734 5.42850337 5.69164445]\n"
     ]
    }
   ],
   "source": [
    "y_prediction = regressor.predict(X_test)\n",
    "# Let's see the first few outputs of the regression model\n",
    "print(y_prediction[:5]) "
   ]
  },
  {
   "cell_type": "code",
   "execution_count": 26,
   "metadata": {
    "colab": {
     "base_uri": "https://localhost:8080/",
     "height": 34
    },
    "colab_type": "code",
    "executionInfo": {
     "elapsed": 794,
     "status": "ok",
     "timestamp": 1555129878544,
     "user": {
      "displayName": "Nikhil Naveen",
      "photoUrl": "",
      "userId": "04752529666557506888"
     },
     "user_tz": -480
    },
    "id": "qMuicbYzuEJv",
    "outputId": "819b189f-dfc7-4f8b-998f-c06ea7cad35e"
   },
   "outputs": [
    {
     "name": "stdout",
     "output_type": "stream",
     "text": [
      "0.6251306211067075\n"
     ]
    }
   ],
   "source": [
    "# Calculate the RMSE value\n",
    "RMSE = sqrt(mean_squared_error(y_true=y_test, y_pred=y_prediction))\n",
    "print(RMSE)"
   ]
  },
  {
   "cell_type": "markdown",
   "metadata": {
    "colab_type": "text",
    "id": "YJ5JQ75blpkm"
   },
   "source": [
    "# Further readings\n",
    "\n",
    "*  Support Vector Machine ML model\n",
    "* **Ensemble methods**\n",
    "* Bagging and Boosting\n",
    "* RandomForest ML model\n",
    "* XGBoost ML model\n",
    "* Feature selection\n",
    "* Regression - MSE, MAE, R Squared\n",
    "* Time series modeling\n",
    "* Clustering - K Means. PCA\n",
    "* Neural Networks\n",
    "* Overfitting\n",
    "* K-Fold Cross Validation to reduce overfitting\n",
    "* Feature engineering - more methods\n",
    "* Parameter tuning\n",
    "\n"
   ]
  },
  {
   "cell_type": "code",
   "execution_count": 0,
   "metadata": {
    "colab": {},
    "colab_type": "code",
    "id": "A4-HUkdui2kz"
   },
   "outputs": [],
   "source": []
  }
 ],
 "metadata": {
  "colab": {
   "collapsed_sections": [],
   "name": "Copy of Practical Demo.ipynb",
   "provenance": [],
   "version": "0.3.2"
  },
  "kernelspec": {
   "display_name": "Python 3",
   "language": "python",
   "name": "python3"
  },
  "language_info": {
   "codemirror_mode": {
    "name": "ipython",
    "version": 3
   },
   "file_extension": ".py",
   "mimetype": "text/x-python",
   "name": "python",
   "nbconvert_exporter": "python",
   "pygments_lexer": "ipython3",
   "version": "3.7.1"
  }
 },
 "nbformat": 4,
 "nbformat_minor": 1
}
