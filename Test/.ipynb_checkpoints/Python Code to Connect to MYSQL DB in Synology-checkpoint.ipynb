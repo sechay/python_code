{
 "cells": [
  {
   "cell_type": "code",
   "execution_count": 4,
   "metadata": {},
   "outputs": [],
   "source": [
    "import mysql.connector as msq\n",
    "import pandas as pd\n",
    "import numpy as np"
   ]
  },
  {
   "cell_type": "code",
   "execution_count": 5,
   "metadata": {},
   "outputs": [],
   "source": [
    "df = pd.read_csv(\"/Users/naveen/Documents/python_code/Test/dataset-Sg/singapore-citizens.csv\")"
   ]
  },
  {
   "cell_type": "code",
   "execution_count": 19,
   "metadata": {},
   "outputs": [
    {
     "name": "stdout",
     "output_type": "stream",
     "text": [
      "4\n"
     ]
    }
   ],
   "source": [
    "len_columns= len(df.columns)\n",
    "print(len_columns)"
   ]
  },
  {
   "cell_type": "code",
   "execution_count": 23,
   "metadata": {},
   "outputs": [
    {
     "name": "stdout",
     "output_type": "stream",
     "text": [
      "year\n",
      "level_1\n",
      "level_2\n",
      "value\n"
     ]
    }
   ],
   "source": [
    "for a in range(0,len_columns):\n",
    "    print(df.columns[a])"
   ]
  },
  {
   "cell_type": "code",
   "execution_count": 24,
   "metadata": {},
   "outputs": [
    {
     "ename": "TypeError",
     "evalue": "'Series' object is not callable",
     "output_type": "error",
     "traceback": [
      "\u001b[0;31m---------------------------------------------------------------------------\u001b[0m",
      "\u001b[0;31mTypeError\u001b[0m                                 Traceback (most recent call last)",
      "\u001b[0;32m<ipython-input-24-09616d73ed79>\u001b[0m in \u001b[0;36m<module>\u001b[0;34m\u001b[0m\n\u001b[0;32m----> 1\u001b[0;31m \u001b[0mdf\u001b[0m\u001b[0;34m.\u001b[0m\u001b[0mdtypes\u001b[0m\u001b[0;34m(\u001b[0m\u001b[0;34m)\u001b[0m\u001b[0;34m\u001b[0m\u001b[0;34m\u001b[0m\u001b[0m\n\u001b[0m",
      "\u001b[0;31mTypeError\u001b[0m: 'Series' object is not callable"
     ]
    }
   ],
   "source": [
    "df.dtypes()"
   ]
  },
  {
   "cell_type": "code",
   "execution_count": null,
   "metadata": {},
   "outputs": [],
   "source": [
    "connection = msq.connect(host = '192.168.0.112',\n",
    "                         port = '3307',                    \n",
    "                       user = 'naveen',\n",
    "                       password = 'naveen',\n",
    "                        database = 'NAVEEN')\n",
    "cursor = connection.cursor()\n",
    "for a in range (0,len_columns):\n",
    "    cursor.execute(\"CREATE TABLE sg_citizens (\"+df.columns[0]+\"int,  \n",
    "                  )\")\n",
    "/*mycursor.execute(\"CREATE TABLE customers (name VARCHAR(255), address VARCHAR(255))\")*/"
   ]
  },
  {
   "cell_type": "code",
   "execution_count": null,
   "metadata": {},
   "outputs": [],
   "source": []
  },
  {
   "cell_type": "code",
   "execution_count": 6,
   "metadata": {},
   "outputs": [
    {
     "name": "stdout",
     "output_type": "stream",
     "text": [
      "('192.168.0.109', 'naveen')\n",
      "('192.168.0.109', 'nikhil')\n",
      "('127.0.0.1', 'root')\n"
     ]
    }
   ],
   "source": [
    "connection = msq.connect(host = '192.168.0.112',\n",
    "                         port = '3307',                    \n",
    "                       user = 'naveen',\n",
    "                       password = 'naveen',\n",
    "                        database = 'NAVEEN')\n",
    "cursor = connection.cursor()\n",
    "cursor.execute(\"select Host, USer from mysql.user group by user\")\n",
    "myresult = cursor.fetchall()\n",
    "for x in myresult:\n",
    "    print(x)\n",
    "connection.close()"
   ]
  },
  {
   "cell_type": "code",
   "execution_count": 34,
   "metadata": {},
   "outputs": [
    {
     "name": "stdout",
     "output_type": "stream",
     "text": [
      "(1, 'Naveen')\n"
     ]
    }
   ],
   "source": [
    "connection = msq.connect(host = '192.168.0.112',\n",
    "                         port = '3307',                    \n",
    "                       user = 'naveen',\n",
    "                       password = 'naveen',\n",
    "                        database = 'NAVEEN')\n",
    "cursor = connection.cursor()\n",
    "cursor.execute(\"select * from test\")\n",
    "myresult = cursor.fetchall()\n",
    "for x in myresult:\n",
    "    print(x)\n",
    "connection.close()"
   ]
  }
 ],
 "metadata": {
  "kernelspec": {
   "display_name": "Python 3",
   "language": "python",
   "name": "python3"
  },
  "language_info": {
   "codemirror_mode": {
    "name": "ipython",
    "version": 3
   },
   "file_extension": ".py",
   "mimetype": "text/x-python",
   "name": "python",
   "nbconvert_exporter": "python",
   "pygments_lexer": "ipython3",
   "version": "3.7.1"
  }
 },
 "nbformat": 4,
 "nbformat_minor": 2
}
